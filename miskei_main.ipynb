{
  "nbformat": 4,
  "nbformat_minor": 0,
  "metadata": {
    "kernelspec": {
      "display_name": "Python 3",
      "language": "python",
      "name": "python3"
    },
    "language_info": {
      "codemirror_mode": {
        "name": "ipython",
        "version": 3
      },
      "file_extension": ".py",
      "mimetype": "text/x-python",
      "name": "python",
      "nbconvert_exporter": "python",
      "pygments_lexer": "ipython3",
      "version": "3.8.8"
    },
    "colab": {
      "name": "poisson_miskei_2021-2022/1.ipynb másolata",
      "provenance": [],
      "collapsed_sections": [
        "rYXetSjRWJDj",
        "fDprM-n4vqEN",
        "YbVxJyiEvqES",
        "V3AxdXKQvqER",
        "puIQCkEjytTW",
        "c4wiPMT1mfJQ",
        "yW1h68GwvqET",
        "x0VYldhLvqEU",
        "ULrH_iQfwaHk"
      ],
      "include_colab_link": true
    }
  },
  "cells": [
    {
      "cell_type": "markdown",
      "metadata": {
        "id": "view-in-github",
        "colab_type": "text"
      },
      "source": [
        "<a href=\"https://colab.research.google.com/github/Dudgit/Feri/blob/main/miskei_main.ipynb\" target=\"_parent\"><img src=\"https://colab.research.google.com/assets/colab-badge.svg\" alt=\"Open In Colab\"/></a>"
      ]
    },
    {
      "cell_type": "markdown",
      "source": [
        "# Imports"
      ],
      "metadata": {
        "id": "kMw4zpUiSq4v"
      }
    },
    {
      "cell_type": "code",
      "metadata": {
        "scrolled": true,
        "id": "IOyC15A1vqED"
      },
      "source": [
        "# Importing the neccessary libraries\n",
        "\n",
        "import numpy as np\n",
        "import matplotlib.pyplot as plt\n",
        "import tensorflow as tf\n",
        "from matplotlib.lines import Line2D\n",
        "\n",
        "from math import sin, cos, exp, pi, log\n",
        "import math\n",
        "\n",
        "from keras.layers import Reshape, Dense, Flatten, Input, Conv1D, Conv2D, Conv2DTranspose, Cropping2D, Concatenate, LocallyConnected1D, ZeroPadding2D\n",
        "from keras.layers.core import Reshape\n",
        "from keras.models import Sequential, Model\n",
        "from tensorflow.keras.optimizers import Adam, SGD, RMSprop\n",
        "from tensorflow.keras import utils as np_utils\n",
        "\n",
        "from sklearn.model_selection import train_test_split"
      ],
      "execution_count": null,
      "outputs": []
    },
    {
      "cell_type": "markdown",
      "metadata": {
        "id": "OagMwdtYvqEI"
      },
      "source": [
        "# Functions"
      ]
    },
    {
      "cell_type": "markdown",
      "metadata": {
        "id": "rYXetSjRWJDj"
      },
      "source": [
        "### Function for generating the domain"
      ]
    },
    {
      "cell_type": "code",
      "source": [
        ""
      ],
      "metadata": {
        "id": "XvAkiOxRdW_T"
      },
      "execution_count": null,
      "outputs": []
    },
    {
      "cell_type": "code",
      "metadata": {
        "id": "U9Ymoi4HvqEJ"
      },
      "source": [
        "# Function for generating the domain\n",
        " \n",
        "# Input0: the width of the main rectangle\n",
        "# Input1: the height of the main rectangle\n",
        "# Input2: the width of the triangluar part\n",
        "# Input3: the border_dist - sets the distance of the border from the cirucmference\n",
        "# Input4: the density of points on the border per unit length\n",
        "# Input5: n for the n-gon\n",
        "# Input6: (s) BASE for the number of inner training points (the X in X^2 = number_of_extra_training_points_inside)\n",
        "\n",
        "# Output1: x coordinates on ∂Ω\n",
        "# Output1: y coordinates on ∂Ω\n",
        "# Output2   list of x coordinates on ∂Ω+ε\n",
        "# Output3   list of y coordinates on ∂Ω+ε\n",
        "# Output4   list of x coordinates of inner measuring points on the regular n-gon\n",
        "# Output5   list of y coordinates of inner measuring points on the ragular n-gon\n",
        "# Output6   list of x coordinates of the other inner measuring points\n",
        "# Output7   list of y coordinates of the other inner measuring points\n",
        "\n",
        "def mydomain(rectangle_width, rectangle_height, triangle_width, border_dist, density, n_gon, s):\n",
        "    a = rectangle_width   \n",
        "    b = rectangle_height    \n",
        "    c = triangle_width    \n",
        "    d = border_dist\n",
        "    N = n_gon\n",
        "    rho = density         \n",
        "    \n",
        "    # Creating lists to save the coordinates\n",
        "    x_coord_circ = []\n",
        "    y_coord_circ = []\n",
        "    \n",
        "    x_border = []\n",
        "    y_border = []\n",
        "\n",
        "    # Generating the coordinates of the border with density rho\n",
        "    x_lower = np.linspace(0, a + c, int(rho * (a + c) + 1))\n",
        "    y_lower = [0]*(len(x_lower))\n",
        "\n",
        "    y_left = np.linspace(b, 0, int(rho * b + 1))\n",
        "    x_left = [0]*len(y_left)\n",
        "\n",
        "    x_upper = x_lower[0:int(rho * a + 1)][::-1]\n",
        "    y_upper = [b]*len(x_upper)\n",
        "\n",
        "    x_diag = np.linspace(a + c, a, int(rho * c + 1))\n",
        "    y_diag = -(b/c) * x_diag + b*(a+c)/c * np.ones(len(x_diag))\n",
        "\n",
        "    x_coord_circ = np.concatenate((x_left, x_lower, x_diag, x_upper)) #connecting the border coordinates into a single vector\n",
        "    y_coord_circ = np.concatenate((y_left, y_lower, y_diag, y_upper))\n",
        "\n",
        "####################################################################################  \n",
        "  \n",
        "    # Generating the separate circumference\n",
        "    x_lower_sep = x_lower\n",
        "    y_lower_sep = (-1) * d * np.ones(len(y_lower))\n",
        "\n",
        "    x_left_sep = (-1) * d * np.ones(len(x_left))\n",
        "    y_left_sep = y_left\n",
        "\n",
        "    x_upper_sep = x_upper\n",
        "    y_upper_sep = y_upper + d * np.ones(len(y_upper))\n",
        "\n",
        "    x_diag_sep = x_diag + (d * b) / np.sqrt(b**2 + c**2) * np.ones(len(x_diag))\n",
        "    y_diag_sep = y_diag + (d * c) / np.sqrt(b**2 + c**2) * np.ones(len(y_diag))\n",
        "\n",
        "    x_coord_circ_sep = np.concatenate((x_left_sep, [-0.7071067811865475244*d], x_lower_sep, [a + c + d *np.cos(0.5*np.arctan((-1)*b/c))], x_diag_sep, [a + d *np.cos(0.5 * np.pi + 0.5*np.arctan((-1)*b/c))], x_upper_sep, [-0.7071067811865475244*d], [x_left_sep[0]]))\n",
        "    y_coord_circ_sep = np.concatenate((y_left_sep, [-0.7071067811865475244*d], y_lower_sep, [d *np.sin(0.5*np.arctan((-1)*b/c))], y_diag_sep, [b + d *np.sin(0.5 * np.pi + 0.5*np.arctan((-1)*b/c))], y_upper_sep, [b+0.7071067811865475244*d], [y_left_sep[0]]))\n",
        "####################################################################################\n",
        "\n",
        "    [x_circcenter, y_circcenter] = [0.5 * a + 0.25 * c, 0.5 * b] #midpoint of trapezoid\n",
        "    r_circ = min(0.25 * b, 0.125 * (2 * a + c), 0.25 * (2 * a + 3 * c)/(a + c)) #radius of circle on whose circumference the inner points are situated - less than the closest border point\n",
        "    theta = np.linspace(0, 2 * np.pi, N+1) #θ=k*2π/n, k=0,...,n-1\n",
        "    [inner_x, inner_y] = [0.25 * (2 * a + c) + r_circ * np.cos(theta), 0.5 * b + r_circ * np.sin(theta)] # r distance and θ angle away from midpoint of trapezoid\n",
        "\n",
        "####################################################################################    \n",
        "\n",
        "    #creating a relatively rough mesh of X^2 points for the inner training points\n",
        "\n",
        "    belso_1 = np.zeros(s ** 2)\n",
        "    belso_2 = np.zeros(s ** 2)\n",
        "    for i in range(0, s):\n",
        "      belso_1[i*s:i*s+s] = np.linspace(0, (a*b + c*(b - (i+1)*b/(s+1)))/b, s+2)[1:s+1]\n",
        "      for j in range(0, s):\n",
        "        belso_2[j * s + i] = (j + 1) * b / (s + 1)\n",
        "        # belso_1[j * s + i] = (j + 1) * (a*b + c*(b - belso_2[j * s + i]))/(b*(1 + s))\n",
        "    belso_1 = np.reshape(belso_1, s**2)\n",
        "    belso_2 = np.reshape(belso_2, s**2)\n",
        "\n",
        "    #for i in range(0,len(belso_1)):\n",
        "      #belso_1[i] = (1 + (-1/b + 1/(a + c))*belso_2[i])*belso_1[i]\n",
        "    \n",
        "    # ind_tor = np.where(b*belso_1+c*belso_2 > b*(a+c))[0]\n",
        "    # np.delete(belso_1, ind_tor)\n",
        "    # np.delete(belso_2, ind_tor)\n",
        "\n",
        "    inner_measured = [belso_1, belso_2]\n",
        "\n",
        "    \n",
        "    # Returning the coordinates\n",
        "    return [x_coord_circ, y_coord_circ, x_coord_circ_sep, y_coord_circ_sep, inner_x, inner_y, belso_1, belso_2]"
      ],
      "execution_count": null,
      "outputs": []
    },
    {
      "cell_type": "markdown",
      "metadata": {
        "id": "fDprM-n4vqEN"
      },
      "source": [
        "### Function for plotting the domain"
      ]
    },
    {
      "cell_type": "code",
      "metadata": {
        "id": "QXy49YZwvqEN"
      },
      "source": [
        "# Function for plotting the domain\n",
        "\n",
        "# Input0: x coordinates of the circumference\n",
        "# Input1: y coordinates of the circumference\n",
        "# Input2: x coordinates of the inner domain\n",
        "# Input3: y coordinates of the inner domain\n",
        "# Input4: x coordinates of the border\n",
        "# Input5: y coordinates of the border\n",
        "# Input6: visibility of certain features of the domain\n",
        "# Input7: savefig boolean - if true, the figure is saved as \"domain.jpg\"\n",
        "\n",
        "# Output: a nice plot of the domain\n",
        "\n",
        "def rect_plot(border_coord, circum_coord, border_training_coord, circum_training_coord, inner_measured, inner_training_coord, visibility, savefig):\n",
        "\n",
        "    plt.figure(figsize = (10,10))\n",
        "    plt.grid()\n",
        "    \n",
        "    custom_lines = []\n",
        "    custom_legend_label = []\n",
        "    \n",
        "    if visibility[0] == True:\n",
        "        plt.scatter(border_coord[0], border_coord[1], color = 'navy', s = 20)\n",
        "        custom_lines.append(Line2D([0], [0], color='navy', lw=5))\n",
        "        custom_legend_label.append('Outer points')\n",
        "    \n",
        "    if visibility[1] == True:\n",
        "        plt.scatter(circum_coord[0], circum_coord[1], color = 'cyan', s = 20)\n",
        "        custom_lines.append(Line2D([0], [0], color='cyan', lw=5))\n",
        "        custom_legend_label.append('∂Ω')\n",
        "\n",
        "    if visibility[2] == True:\n",
        "        plt.scatter(border_training_coord[0], border_training_coord[1], color = 'cyan', s = 20)\n",
        "        custom_lines.append(Line2D([0], [0], color='cyan', lw=5))\n",
        "        custom_legend_label.append('Border training points')\n",
        "\n",
        "    if visibility[3] == True:\n",
        "        plt.scatter(circum_training_coord[0], circum_training_coord[1], color = 'dodgerblue', s = 20)\n",
        "        custom_lines.append(Line2D([0], [0], color='dodgerblue', lw=5))\n",
        "        custom_legend_label.append('Training points on ∂Ω')\n",
        "        \n",
        "    if visibility[4] == True:\n",
        "        plt.scatter(inner_measured[0], inner_measured[1], color = 'springgreen', s = 80)\n",
        "        custom_lines.append(Line2D([0], [0], color='springgreen', lw=5))\n",
        "        custom_legend_label.append('Measured points in intΩ')\n",
        "        \n",
        "    if visibility[5] == True:\n",
        "        plt.scatter(inner_training_coord[0], inner_training_coord[1], color = 'purple', s = 20)\n",
        "        custom_lines.append(Line2D([0], [0], color='purple', lw=5))\n",
        "        custom_legend_label.append('Inner training points')\n",
        "      \n",
        "    plt.title('The generated domain with width = ' + str(rectangle_width + triangle_width) + ', height = ' + str(rectangle_height), fontsize = 18, y = 1.05)\n",
        "    plt.xlabel('x', fontsize = 14)\n",
        "    plt.ylabel('y', fontsize = 14)    \n",
        "    plt.legend(custom_lines, custom_legend_label, bbox_to_anchor=(1.05, 1), loc=2, fontsize = 15)\n",
        "    \n",
        "    if savefig == True:\n",
        "        plt.savefig('domain.jpg', dpi = 600, bbox_inches='tight')\n",
        "    \n",
        "    plt.show()"
      ],
      "execution_count": null,
      "outputs": []
    },
    {
      "cell_type": "markdown",
      "metadata": {
        "id": "m_CDHas-vqEQ"
      },
      "source": [
        "### Function for calling the functions and generating the domain"
      ]
    },
    {
      "cell_type": "code",
      "metadata": {
        "id": "q0j4extgvqER"
      },
      "source": [
        "# Function for calling the mydomain, evenly_distr_points_gen and inner_points_generation functions\n",
        "# Calculating the domain \n",
        "\n",
        "# Input0: width of the rectangle\n",
        "# Input1: height of the rectangle\n",
        "# Input2: triangle width\n",
        "# Input3: distance between the circumference and the border\n",
        "# Input4: string containing the side (bottom, left, top, right)\n",
        "# Input5: number of training points on the border\n",
        "# Input6: number of training points on the circumference\n",
        "# Input7: the x coordinates of the requested inner points\n",
        "# Input8: the y coordinates of the requested inner points\n",
        "\n",
        "# Output: x, y coordinates of the following: border-, circumference-, inner-, training border-, training cirum.- training inner coordinates\n",
        "\n",
        "def calling_circ_training_inner(rectangle_width, rectangle_height, triangle_width, border_dist, num_points_to_gen_training_border, num_points_to_gen_training_circum, x_inner_requested, y_inner_requested):\n",
        "    a = rectangle_width\n",
        "    b = rectangle_height\n",
        "    c = triangle_width\n",
        "\n",
        "    # Generating the domain \n",
        "    x_y_coord = mydomain(rectangle_width, rectangle_height, triangle_width, border_dist, density, number_of_points_inside, s)\n",
        "    #   return [x_coord_circ, y_coord_circ, x_coord_circ_sep, y_coord_circ_sep, inner_x, inner_y, belso_1, belso_2]\n",
        "\n",
        "    # ∂Ω\n",
        "    x_coordinates = x_y_coord[0]\n",
        "    y_coordinates = x_y_coord[1]\n",
        "\n",
        "    # ∂Ω+ε\n",
        "    x_border = x_y_coord[2]\n",
        "    y_border = x_y_coord[3]\n",
        "    \n",
        "####################################################################################    \n",
        "\n",
        "    # every second border (∂Ω+ε) point becomes a training point\n",
        "    x_training_border = x_border[::2]\n",
        "    y_training_border = y_border[::2]\n",
        "\n",
        "    # every second 'circumference' (∂Ω) point becomes a training point\n",
        "    x_training_circum = x_coordinates[::2]\n",
        "    y_training_circum = y_coordinates[::2]\n",
        "    \n",
        "####################################################################################    \n",
        "\n",
        "    # Saving all the inner points\n",
        "    x_inner_training = np.concatenate((x_y_coord[4],x_y_coord[6]))\n",
        "    y_inner_training = np.concatenate((x_y_coord[5],x_y_coord[7]))\n",
        "\n",
        "    # Saving only the verteces of the n-gon\n",
        "    x_ngon = x_y_coord[6]\n",
        "    y_ngon = x_y_coord[7]\n",
        "\n",
        "####################################################################################  \n",
        "\n",
        "    # Returning the matrix of the coordinates\n",
        "    return [[x_border, y_border], [x_coordinates, y_coordinates], [x_training_border, y_training_border], [x_training_circum, y_training_circum], [x_inner_training, y_inner_training], [x_ngon, y_ngon]]"
      ],
      "execution_count": null,
      "outputs": []
    },
    {
      "cell_type": "markdown",
      "metadata": {
        "id": "YbVxJyiEvqES"
      },
      "source": [
        "### Function for calculating the absolute distance"
      ]
    },
    {
      "cell_type": "code",
      "metadata": {
        "id": "SC-TY8gNvqET"
      },
      "source": [
        "# Function for calculating the absolute distance\n",
        "\n",
        "# Input1: x and y coordinates of circumference training points\n",
        "# Input2: x and y coordinates of border training points\n",
        "# Output: psi values\n",
        "\n",
        "def abs_calculator(x, y):\n",
        "    \n",
        "    # List for saving the x_i values\n",
        "    abs_values = []\n",
        "    \n",
        "    # Iterating through the circumference points\n",
        "    for j in range(0,len(y[0])):\n",
        "    \n",
        "        #declaring variable for saving the psi values for all j\n",
        "        abs_coeff_j = []\n",
        "        \n",
        "        #iterating through the border points\n",
        "        for i in range(0,len(x[0])):\n",
        "            \n",
        "            #calculating the distances between the border and circumf. values\n",
        "            beginning_temp = np.array([x[0][i], x[1][i]])\n",
        "            end_temp = np.array([y[0][j], y[1][j]])\n",
        "            dist = np.linalg.norm(beginning_temp - end_temp)           \n",
        "        \n",
        "            # calculating the abs values\n",
        "            abs_coeff_j.append(dist)\n",
        "        \n",
        "        #appending the psi values\n",
        "        abs_values.append(abs_coeff_j)\n",
        "        \n",
        "    # Returning with the psi matrix\n",
        "    return abs_values"
      ],
      "execution_count": null,
      "outputs": []
    },
    {
      "cell_type": "markdown",
      "metadata": {
        "id": "V3AxdXKQvqER"
      },
      "source": [
        "### Function for evaluating the radial function $\\psi_{y_j}(x-y_j) = ((1 + r^2)^{\\beta/2})$\n"
      ]
    },
    {
      "cell_type": "code",
      "metadata": {
        "id": "bGubd5lSvqES"
      },
      "source": [
        "# Function for calculating the radial function $\\psi_{y_j}(x-y_j) = ((1 + r^2)^{\\beta/2})$\n",
        "\n",
        "# Input1: x and y coordinates of circumference training points\n",
        "# Input2: x and y coordinates of border training points\n",
        "# Output: psi values\n",
        "\n",
        "# beta=-1 Inverse multiquadrics kb jó volt\n",
        "# exp(-r^2) elég rossz volt\n",
        "# r^2*log(r) mégrosszabb\n",
        "# r^n*cos(n*theta) - kipróbálni\n",
        "\n",
        "beta = -1\n",
        "def psi_calculator(x, y):\n",
        "    \n",
        "    # List for saving the x_i values\n",
        "    psi_values = []\n",
        "    \n",
        "    # Iterating through the circumference points\n",
        "    for j in range(0, len(y[0])):\n",
        "    \n",
        "        #declaring variable for saving the psi values for all j\n",
        "        psi_j = []\n",
        "        \n",
        "        #iterating through the border points\n",
        "        for i in range(0, len(x[0])):\n",
        "            \n",
        "            #calculating the distances between the border and circumf. values\n",
        "            beginning_temp = np.array([x[0][i], x[1][i]])\n",
        "            end_temp = np.array([y[0][j], y[1][j]])\n",
        "            dist = np.linalg.norm(beginning_temp - end_temp)           \n",
        "        \n",
        "            # calculating the psi values\n",
        "            psi_j.append((1 + dist ** 2) ** (beta/2))\n",
        "        \n",
        "        #appending the psi values\n",
        "        psi_values.append(psi_j)\n",
        "        \n",
        "    # Returning with the psi matrix\n",
        "    return psi_values"
      ],
      "execution_count": null,
      "outputs": []
    },
    {
      "cell_type": "markdown",
      "metadata": {
        "id": "puIQCkEjytTW"
      },
      "source": [
        "### Function for calculating the laplacian of the radial functions $Δ\\psi_{y_j}(r)= \\frac{r^2-2}{(r^2+1)^{5/2}}$ in a given list of points. \n",
        "($\\psi_{y_j}=(1 + r^2)^{-1/2}$)"
      ]
    },
    {
      "cell_type": "code",
      "metadata": {
        "id": "_nbvFjNHy6lB"
      },
      "source": [
        "# Function for calculating $Δ\\psi_{y_j}(r)= \\frac{r^2-2}{(r^2+1)^{5/2}}$ in a given list of points. ($\\psi_{y_j}=(1 + r^2)^{-1/2}$)\n",
        "\n",
        "# Input1: x coordinates to evaluate Δψ in\n",
        "# Input2: y coordinates to evaluate Δψ in\n",
        "\n",
        "# Output: Δψ_yj(x_i) values\n",
        "\n",
        "def laplace_psi(x, y):\n",
        "    \n",
        "# List for saving the x_i values\n",
        "    lapl_psi_values = []\n",
        "    \n",
        "# Iterating through the circumference points\n",
        "    for j in range(0,len(y[0])):\n",
        "    \n",
        "#declaring variable for saving the Δψ values for all j\n",
        "        psi_j = []\n",
        "        \n",
        "#iterating through the border points\n",
        "        for i in range(0,len(x[0])):\n",
        "            \n",
        "#calculating the distances between the border and circumf. Δψ values\n",
        "            beginning_temp = np.array([x[0][i], x[1][i]])\n",
        "            end_temp = np.array([y[0][j], y[1][j]])\n",
        "            dist = np.linalg.norm(beginning_temp - end_temp)           \n",
        "        \n",
        "# calculating the Δψ values\n",
        "            psi_j.append((dist ** 2 - 2) / (dist ** 2 + 1) ** 2.5) #the Laplacian of the used training function ψ=(1+r^2)^(-1/2)\n",
        "        \n",
        "#appending the Δψ values\n",
        "        lapl_psi_values.append(psi_j)\n",
        "        \n",
        "# Returning with the psi matrix\n",
        "    return lapl_psi_values"
      ],
      "execution_count": null,
      "outputs": []
    },
    {
      "cell_type": "markdown",
      "metadata": {
        "id": "c4wiPMT1mfJQ"
      },
      "source": [
        "### Function for calculating the exact solution $u(x)= xy\\sin(x+y^2)$"
      ]
    },
    {
      "cell_type": "code",
      "metadata": {
        "id": "TKt8cwW8mdcI"
      },
      "source": [
        "# Input1: x coordinates to evaluate φ in\n",
        "# Input2: y coordinates to evaluate φ in\n",
        "# Input3: c - concentration of φ\n",
        "\n",
        "# Output: Δψ_yj(x_i) values\n",
        "\n",
        "def harm_func(x_list, y_list):\n",
        "    \n",
        "    # Creating list to store the values\n",
        "    g_values = []\n",
        "    \n",
        "    # Looping through the lists\n",
        "    for i in range(0,len(x_list)):\n",
        "    \n",
        "        # calculating the function values\n",
        "        g_values.append((2*y_list[i] + 6*x_list[i]*y_list[i])*np.cos(x_list[i] + y_list[i]**2) + (-x_list[i]*y_list[i] - 4*x_list[i]*y_list[i]**3)*np.sin(x_list[i] + y_list[i]**2))\n",
        "\n",
        "    # Returning the value\n",
        "    return g_values"
      ],
      "execution_count": null,
      "outputs": []
    },
    {
      "cell_type": "markdown",
      "metadata": {
        "id": "yW1h68GwvqET"
      },
      "source": [
        "### Function for calculating the source function $f(x)=\\Delta (xy\\sin(x+y^2)) = (2y + 6 xy) \\cos(x + y^2) + (-xy - 4 xy^3) \\sin(x + y^2)$"
      ]
    },
    {
      "cell_type": "code",
      "metadata": {
        "id": "CT_2rRLGvqET"
      },
      "source": [
        "# Function for calculating the source function values\n",
        "\n",
        "# legyen valami polinom * sin\n",
        "\n",
        "# Input1: x coordinates\n",
        "# Input2: y coordinates\n",
        "# Output: function values\n",
        "\n",
        "def source(x_list, y_list):\n",
        "    \n",
        "    # Creating list to store the values\n",
        "    g_values = []\n",
        "    \n",
        "    # Looping through the lists\n",
        "    for i in range(0,len(x_list)):\n",
        "    \n",
        "        # calculating the function values\n",
        "        g_values.append((2*y_list[i] + 6*x_list[i]*y_list[i])*np.cos(x_list[i] + y_list[i]**2) + (-x_list[i]*y_list[i] - 4*x_list[i]*y_list[i]**3)*np.sin(x_list[i] + y_list[i]**2))\n",
        "\n",
        "    # Returning the value\n",
        "    return g_values"
      ],
      "execution_count": null,
      "outputs": []
    },
    {
      "cell_type": "markdown",
      "metadata": {
        "id": "3SsjgaU9vqET"
      },
      "source": [
        "# Generating the domain"
      ]
    },
    {
      "cell_type": "markdown",
      "metadata": {
        "id": "Btb5_E8LvqET"
      },
      "source": [
        "Setting the desired parameters of the domain and then plotting it"
      ]
    },
    {
      "cell_type": "markdown",
      "metadata": {
        "id": "x0VYldhLvqEU"
      },
      "source": [
        "### Plotting the domain"
      ]
    },
    {
      "cell_type": "code",
      "metadata": {
        "scrolled": false,
        "colab": {
          "base_uri": "https://localhost:8080/",
          "height": 657
        },
        "id": "t4zLMBRXvqEU",
        "outputId": "3b256ab8-5765-4290-8537-97f56260d3ad"
      },
      "source": [
        "# Setting the parameters of the domain\n",
        "rectangle_width = 0.5\n",
        "rectangle_height = 1\n",
        "triangle_width = 0.5\n",
        "border_dist = 0.05\n",
        "number_of_points_inside = 5\n",
        "density = 50\n",
        "n_gon = 5\n",
        "s = 8\n",
        "\n",
        "# Setting the number of training points to generate\n",
        "# Option1: if side_str is set 'top' the the following variables should be set to determine the training points \n",
        "# in the lower part of the top border\n",
        "# Option2: if the side_str is set as 'left', 'bottom' or 'right', the amount of all training data should be given\n",
        "num_points_to_gen_training_border = 3\n",
        "num_points_to_gen_training_circum = 0\n",
        "\n",
        "# Setting the inner points for the NN\n",
        "# Give the following coordinates as floating number\n",
        "# One digit (if it's and integer or has only one digit), two digits (if it has two or more digits)\n",
        "[x_coord_circ, y_coord_circ, x_coord_circ_sep, y_coord_circ_sep, inner_x, inner_y, belso_1, belso_2] = mydomain(rectangle_width, rectangle_height, triangle_width, border_dist, density, n_gon, s)\n",
        "\n",
        "x_inner_requested = inner_x\n",
        "y_inner_requested = inner_y\n",
        "\n",
        "# Calling the calling_circ_training_inner function\n",
        "results_temp = calling_circ_training_inner(rectangle_width, rectangle_height, triangle_width, border_dist, num_points_to_gen_training_border, num_points_to_gen_training_circum, x_inner_requested, y_inner_requested)\n",
        "# return [ [x_border, y_border], [x_coordinates, y_coordinates], [x_training_border, y_training_border], [x_training_circum, y_training_circum], [x_inner_training, y_inner_training] ]\n",
        "# Putting the coordinates into lists\n",
        "border_coord = results_temp[0]\n",
        "circum_coord = results_temp[1]\n",
        "border_training_coord = results_temp[2]\n",
        "circum_training_coord = results_temp[3]\n",
        "inner_training_coord = results_temp[4]\n",
        "\n",
        "border_vis = True\n",
        "circum_vis = True\n",
        "border_training_vis = True\n",
        "circum_training_vis = True\n",
        "inner_mesured_vis = True\n",
        "inner_training_vis = True\n",
        "\n",
        "# Setting the visibility boolean list\n",
        "visibility = [border_vis, circum_vis, border_training_vis, circum_training_vis, inner_mesured_vis, inner_training_vis]\n",
        "\n",
        "# Setting the savefig variable\n",
        "savefig = False\n",
        "\n",
        "# Plotting the domain\n",
        "rect_plot(border_coord, circum_coord, border_training_coord, circum_training_coord, [inner_x, inner_y], inner_training_coord, visibility, savefig)"
      ],
      "execution_count": null,
      "outputs": [
        {
          "output_type": "display_data",
          "data": {
            "image/png": "[encoded data removed]",
            "text/plain": [
              "<Figure size 720x720 with 1 Axes>"
            ]
          },
          "metadata": {
            "needs_background": "light"
          }
        }
      ]
    },
    {
      "cell_type": "markdown",
      "metadata": {
        "id": "NJjLzeDjvqEV"
      },
      "source": [
        "# Creating the Neural Network"
      ]
    },
    {
      "cell_type": "code",
      "metadata": {
        "scrolled": true,
        "id": "XwFg4Zm0vqEV",
        "colab": {
          "base_uri": "https://localhost:8080/",
          "height": 270
        },
        "outputId": "355aae39-cf36-4038-8c2f-a66850206cae"
      },
      "source": [
        "# Creating the NN\n",
        "\n",
        "# Calling the domain generation\n",
        "\n",
        "border_training_coord_all_x = []\n",
        "border_training_coord_all_y = []\n",
        "circum_training_coord_all_x = []\n",
        "circum_training_coord_all_y = []\n",
        "inner_training_coord_all_x = []\n",
        "inner_training_coord_all_y = []\n",
        "x_inner_requested = []\n",
        "y_inner_requested = []\n",
        "\n",
        "\n",
        "results = calling_circ_training_inner(rectangle_width, rectangle_height, triangle_width, border_dist, num_points_to_gen_training_border, num_points_to_gen_training_circum, x_inner_requested, y_inner_requested)\n",
        "# return [[x_border, y_border], [x_coordinates, y_coordinates], [x_training_border, y_training_border], [x_training_circum, y_training_circum], [x_inner_training, y_inner_training], [x_ngon, y_ngon]]\n",
        "\n",
        "border_training_coord_all_x += list(results[2][0])\n",
        "border_training_coord_all_y += list(results[2][1])\n",
        "circum_training_coord_all_x += list(results[3][0])\n",
        "circum_training_coord_all_y += list(results[3][1])\n",
        "inner_training_coord_all_x += list(results[4][0])\n",
        "inner_training_coord_all_y += list(results[4][1])\n",
        "x_inner_requested += list(results[5][0])\n",
        "y_inner_requested += list(results[5][1])\n",
        "\n",
        "# Calling the radial function calculator function - psi_calculator\n",
        "\n",
        "psi_input = np.array(psi_calculator([circum_training_coord_all_x, circum_training_coord_all_y], [border_training_coord_all_x, border_training_coord_all_y]))\n",
        "psi_output = np.array(psi_calculator([x_inner_requested, y_inner_requested], [border_training_coord_all_x, border_training_coord_all_y]))\n",
        "\n",
        "laplace_psi_input = np.array(laplace_psi([inner_training_coord_all_x, inner_training_coord_all_y], [border_training_coord_all_x, border_training_coord_all_y]))\n",
        "laplace_psi_output = np.array(laplace_psi([x_inner_requested, y_inner_requested], [border_training_coord_all_x, border_training_coord_all_y]))\n",
        "\n",
        "psi_training_input = np.concatenate((psi_input,laplace_psi_input))\n",
        "psi_training_output = np.concatenate((psi_output,laplace_psi_output))\n",
        "\n",
        "# Calculating distances between circumference points and inner points for initializing weights\n",
        "init_w_values = np.array(abs_calculator([x_inner_requested, y_inner_requested], [circum_training_coord_all_x, circum_training_coord_all_y])) ** (-1)\n",
        "\n",
        "# Making the inputs and weights periodic\n",
        "psi_training_input = np.hstack((np.transpose([psi_training_input[:,-2]]), np.transpose([psi_training_input[:,-1]]), psi_training_input, np.transpose([psi_training_input[:,0]]), np.transpose([psi_training_input[:,1]])))\n",
        "init_w_values = np.vstack(([init_w_values[2,:]], [init_w_values[-1,:]], init_w_values, [init_w_values[0,:]], [init_w_values[1,:]]))\n",
        "\n",
        "# Reshaping the training input and output\n",
        "psi_training_input = np.array(psi_training_input).reshape(np.shape(psi_training_input)[0], np.shape(psi_training_input)[1], 1)\n",
        "psi_training_output = np.array(psi_training_output).reshape(np.shape(psi_training_output)[0], np.shape(psi_training_output)[1])\n",
        "\n",
        "# Calling the harmonic function value calculator\n",
        "harm_function_values_circum = np.array(harm_func(circum_training_coord_all_x, circum_training_coord_all_y))\n",
        "harm_function_values_inner = np.array(harm_func(x_inner_requested, y_inner_requested))\n",
        "\n",
        "# Stacking the last 2 and first 2 elements\n",
        "g_values = np.hstack((harm_function_values_circum[-2], harm_function_values_circum[-1], harm_function_values_circum, harm_function_values_circum[0], harm_function_values_circum[-1]))\n",
        "\n",
        "# Expanging the dimensions\n",
        "g_values = np.expand_dims(g_values, 1).T\n",
        "\n",
        "# Splitting the input into train and test data sets\n",
        "\n",
        "psi_training_input_train = train_test_split(psi_training_input, train_size = 0.9, test_size= 0.1, random_state = 0)[0]\n",
        "psi_training_input_test = train_test_split(psi_training_input, train_size = 0.9, test_size= 0.1, random_state = 0)[1]\n",
        "psi_training_output_train = train_test_split(psi_training_output, train_size = 0.9, test_size= 0.1, random_state = 0)[0]\n",
        "psi_training_output_test = train_test_split(psi_training_output, train_size = 0.9, test_size= 0.1, random_state = 0)[1]\n",
        "\n",
        "#print(np.shape(ext_psi_training_input))\n",
        "print(init_w_values.shape)\n",
        "print('Shape of the input data set: ', np.shape(psi_training_input))\n",
        "print('Shape of the output data set: ', np.shape(psi_training_output))\n",
        "\n",
        "print('Shape of the input train data set: ', np.shape(psi_training_input_train))\n",
        "print('Shape of the output test data set: ', np.shape(psi_training_output_test))"
      ],
      "execution_count": null,
      "outputs": [
        {
          "output_type": "error",
          "ename": "ValueError",
          "evalue": "ignored",
          "traceback": [
            "\u001b[0;31m---------------------------------------------------------------------------\u001b[0m",
            "\u001b[0;31mValueError\u001b[0m                                Traceback (most recent call last)",
            "\u001b[0;32m<ipython-input-49-bf7449a908fe>\u001b[0m in \u001b[0;36m<module>\u001b[0;34m()\u001b[0m\n\u001b[1;32m     33\u001b[0m \u001b[0mlaplace_psi_output\u001b[0m \u001b[0;34m=\u001b[0m \u001b[0mnp\u001b[0m\u001b[0;34m.\u001b[0m\u001b[0marray\u001b[0m\u001b[0;34m(\u001b[0m\u001b[0mlaplace_psi\u001b[0m\u001b[0;34m(\u001b[0m\u001b[0;34m[\u001b[0m\u001b[0mx_inner_requested\u001b[0m\u001b[0;34m,\u001b[0m \u001b[0my_inner_requested\u001b[0m\u001b[0;34m]\u001b[0m\u001b[0;34m,\u001b[0m \u001b[0;34m[\u001b[0m\u001b[0mborder_training_coord_all_x\u001b[0m\u001b[0;34m,\u001b[0m \u001b[0mborder_training_coord_all_y\u001b[0m\u001b[0;34m]\u001b[0m\u001b[0;34m)\u001b[0m\u001b[0;34m)\u001b[0m\u001b[0;34m\u001b[0m\u001b[0;34m\u001b[0m\u001b[0m\n\u001b[1;32m     34\u001b[0m \u001b[0;34m\u001b[0m\u001b[0m\n\u001b[0;32m---> 35\u001b[0;31m \u001b[0mpsi_training_input\u001b[0m \u001b[0;34m=\u001b[0m \u001b[0mnp\u001b[0m\u001b[0;34m.\u001b[0m\u001b[0mconcatenate\u001b[0m\u001b[0;34m(\u001b[0m\u001b[0;34m(\u001b[0m\u001b[0mpsi_input\u001b[0m\u001b[0;34m,\u001b[0m\u001b[0mlaplace_psi_input\u001b[0m\u001b[0;34m)\u001b[0m\u001b[0;34m)\u001b[0m\u001b[0;34m\u001b[0m\u001b[0;34m\u001b[0m\u001b[0m\n\u001b[0m\u001b[1;32m     36\u001b[0m \u001b[0mpsi_training_output\u001b[0m \u001b[0;34m=\u001b[0m \u001b[0mnp\u001b[0m\u001b[0;34m.\u001b[0m\u001b[0mconcatenate\u001b[0m\u001b[0;34m(\u001b[0m\u001b[0;34m(\u001b[0m\u001b[0mpsi_output\u001b[0m\u001b[0;34m,\u001b[0m\u001b[0mlaplace_psi_output\u001b[0m\u001b[0;34m)\u001b[0m\u001b[0;34m)\u001b[0m\u001b[0;34m\u001b[0m\u001b[0;34m\u001b[0m\u001b[0m\n\u001b[1;32m     37\u001b[0m \u001b[0;34m\u001b[0m\u001b[0m\n",
            "\u001b[0;32m<__array_function__ internals>\u001b[0m in \u001b[0;36mconcatenate\u001b[0;34m(*args, **kwargs)\u001b[0m\n",
            "\u001b[0;31mValueError\u001b[0m: all the input array dimensions for the concatenation axis must match exactly, but along dimension 1, the array at index 0 has size 77 and the array at index 1 has size 70"
          ]
        }
      ]
    },
    {
      "cell_type": "code",
      "metadata": {
        "colab": {
          "base_uri": "https://localhost:8080/",
          "height": 356
        },
        "id": "odA6V7l1vqEV",
        "outputId": "1b0e0eb7-868e-426a-f22f-80883497ad32"
      },
      "source": [
        "# Creating the NN model\n",
        "\n",
        "model = Sequential()\n",
        "model.add(Reshape((52, ), input_shape=(52, 1)))\n",
        "model.add(Dense(3, activation = 'linear',use_bias=False))\n",
        "model.layers[1].set_weights([init_w_values])\n",
        "\n",
        "#model.add(CConv2D(1, (1, 3), strides=(1, 1)))\n",
        "#### itt csak egyetlen, viszont helytől függő konvolúciós ablakot használunk  ##############x\n",
        "#model.add(LocallyConnected1D(3,3,activation='relu',input_shape=(52, 1)))\n",
        "#model.add(LocallyConnected1D(3,3,activation='relu'))\n",
        "#### csak 1 plusz réteggel: 339 paraméter, 0.84 körüli accuracy  (ekkor input shape=(50,1))#############\n",
        "####  plusz 2 réteggel: 539 paraméter, 0.6 körüli accuracy  #############\n",
        "\n",
        "### itt két különböző, de rögzített konvolúciós ablakot alkalmazunk  ##########\n",
        "#model.add(Conv1D(2, 3, activation='relu',input_shape=(52, 1)))\n",
        "#model.add(Conv1D(2, 3, activation='relu'))    \n",
        "####  csak plusz 1 réteggel: 299 paraméter, 0.9 körüli accuracy  (ekkor input shape=(50,1))#############\n",
        "####  plusz 2 réteggel: 313 paraméter, 0.92 körüli accuracy -- ADAM-mal a legjobb #############\n",
        "\n",
        "model.summary()\n",
        "\n",
        "# Compiling the model\n",
        "#opt = SGD(lr=0.1, momentum=0.99)\n",
        "opt = tf.keras.optimizers.Adam(learning_rate=0.01, beta_1=0.9, beta_2=0.9, amsgrad=False)\n",
        "model.compile(optimizer=opt, loss='MSE')\n",
        "\n",
        "# Calling the model\n",
        "history = model.fit(psi_training_input_train, psi_training_output_train, epochs=500, batch_size=32, validation_data=(psi_training_input_test, psi_training_output_test), verbose=0)\n",
        "\n",
        "# Getting the weights\n",
        "model.layers[1].get_weights()[0]\n",
        "model.layers[1].get_weights()[0].shape"
      ],
      "execution_count": null,
      "outputs": [
        {
          "output_type": "error",
          "ename": "ValueError",
          "evalue": "ignored",
          "traceback": [
            "\u001b[0;31m---------------------------------------------------------------------------\u001b[0m",
            "\u001b[0;31mValueError\u001b[0m                                Traceback (most recent call last)",
            "\u001b[0;32m<ipython-input-50-f3ac038c8afb>\u001b[0m in \u001b[0;36m<module>\u001b[0;34m()\u001b[0m\n\u001b[1;32m      4\u001b[0m \u001b[0mmodel\u001b[0m\u001b[0;34m.\u001b[0m\u001b[0madd\u001b[0m\u001b[0;34m(\u001b[0m\u001b[0mReshape\u001b[0m\u001b[0;34m(\u001b[0m\u001b[0;34m(\u001b[0m\u001b[0;36m52\u001b[0m\u001b[0;34m,\u001b[0m \u001b[0;34m)\u001b[0m\u001b[0;34m,\u001b[0m \u001b[0minput_shape\u001b[0m\u001b[0;34m=\u001b[0m\u001b[0;34m(\u001b[0m\u001b[0;36m52\u001b[0m\u001b[0;34m,\u001b[0m \u001b[0;36m1\u001b[0m\u001b[0;34m)\u001b[0m\u001b[0;34m)\u001b[0m\u001b[0;34m)\u001b[0m\u001b[0;34m\u001b[0m\u001b[0;34m\u001b[0m\u001b[0m\n\u001b[1;32m      5\u001b[0m \u001b[0mmodel\u001b[0m\u001b[0;34m.\u001b[0m\u001b[0madd\u001b[0m\u001b[0;34m(\u001b[0m\u001b[0mDense\u001b[0m\u001b[0;34m(\u001b[0m\u001b[0;36m3\u001b[0m\u001b[0;34m,\u001b[0m \u001b[0mactivation\u001b[0m \u001b[0;34m=\u001b[0m \u001b[0;34m'linear'\u001b[0m\u001b[0;34m,\u001b[0m\u001b[0muse_bias\u001b[0m\u001b[0;34m=\u001b[0m\u001b[0;32mFalse\u001b[0m\u001b[0;34m)\u001b[0m\u001b[0;34m)\u001b[0m\u001b[0;34m\u001b[0m\u001b[0;34m\u001b[0m\u001b[0m\n\u001b[0;32m----> 6\u001b[0;31m \u001b[0mmodel\u001b[0m\u001b[0;34m.\u001b[0m\u001b[0mlayers\u001b[0m\u001b[0;34m[\u001b[0m\u001b[0;36m1\u001b[0m\u001b[0;34m]\u001b[0m\u001b[0;34m.\u001b[0m\u001b[0mset_weights\u001b[0m\u001b[0;34m(\u001b[0m\u001b[0;34m[\u001b[0m\u001b[0minit_w_values\u001b[0m\u001b[0;34m]\u001b[0m\u001b[0;34m)\u001b[0m\u001b[0;34m\u001b[0m\u001b[0;34m\u001b[0m\u001b[0m\n\u001b[0m\u001b[1;32m      7\u001b[0m \u001b[0;34m\u001b[0m\u001b[0m\n\u001b[1;32m      8\u001b[0m \u001b[0;31m#model.add(CConv2D(1, (1, 3), strides=(1, 1)))\u001b[0m\u001b[0;34m\u001b[0m\u001b[0;34m\u001b[0m\u001b[0;34m\u001b[0m\u001b[0m\n",
            "\u001b[0;32m/usr/local/lib/python3.7/dist-packages/keras/engine/base_layer.py\u001b[0m in \u001b[0;36mset_weights\u001b[0;34m(self, weights)\u001b[0m\n\u001b[1;32m   1850\u001b[0m         \u001b[0;32mif\u001b[0m \u001b[0;32mnot\u001b[0m \u001b[0mref_shape\u001b[0m\u001b[0;34m.\u001b[0m\u001b[0mis_compatible_with\u001b[0m\u001b[0;34m(\u001b[0m\u001b[0mweight_shape\u001b[0m\u001b[0;34m)\u001b[0m\u001b[0;34m:\u001b[0m\u001b[0;34m\u001b[0m\u001b[0;34m\u001b[0m\u001b[0m\n\u001b[1;32m   1851\u001b[0m           raise ValueError(\n\u001b[0;32m-> 1852\u001b[0;31m               \u001b[0;34mf'Layer {self.name} weight shape {ref_shape} '\u001b[0m\u001b[0;34m\u001b[0m\u001b[0;34m\u001b[0m\u001b[0m\n\u001b[0m\u001b[1;32m   1853\u001b[0m               \u001b[0;34m'is not compatible with provided weight '\u001b[0m\u001b[0;34m\u001b[0m\u001b[0;34m\u001b[0m\u001b[0m\n\u001b[1;32m   1854\u001b[0m               f'shape {weight_shape}.')\n",
            "\u001b[0;31mValueError\u001b[0m: Layer dense_12 weight shape (52, 3) is not compatible with provided weight shape (54, 64)."
          ]
        }
      ]
    },
    {
      "cell_type": "code",
      "metadata": {
        "colab": {
          "base_uri": "https://localhost:8080/",
          "height": 467
        },
        "id": "LMR9M2VAvqEW",
        "outputId": "416ed697-c7a7-4f8a-e4f8-6c16dbae3815"
      },
      "source": [
        "plt.figure(figsize = (10,7))\n",
        "\n",
        "plt.plot(history.history['loss'], color = 'coral', label = 'Training loss')\n",
        "plt.plot(history.history['val_loss'], color = 'firebrick', label = 'Testing loss')\n",
        "\n",
        "plt.title('Training and testing loss in the function of epochs', fontsize = 18)\n",
        "plt.xlabel('Epochs', fontsize = 15)\n",
        "plt.yscale('log')\n",
        "plt.ylabel('Loss', fontsize = 15)\n",
        "\n",
        "#plt.ylim(0,1)\n",
        "\n",
        "plt.legend(fontsize = 15)\n",
        "plt.grid()\n",
        "plt.show()"
      ],
      "execution_count": null,
      "outputs": [
        {
          "output_type": "display_data",
          "data": {
            "image/png": "[encoded data removed]",
            "text/plain": [
              "<Figure size 720x504 with 1 Axes>"
            ]
          },
          "metadata": {
            "needs_background": "light"
          }
        }
      ]
    },
    {
      "cell_type": "code",
      "metadata": {
        "id": "9Mi31vU8vqEW"
      },
      "source": [
        "#model.predict(psi_training_input_test)\n",
        "#psi_training_output_test"
      ],
      "execution_count": null,
      "outputs": []
    },
    {
      "cell_type": "code",
      "metadata": {
        "colab": {
          "base_uri": "https://localhost:8080/"
        },
        "id": "bLrYglz_vqEW",
        "outputId": "f69b1b9e-935c-4264-cdb2-50d0d40da19d"
      },
      "source": [
        "model.predict(g_values)"
      ],
      "execution_count": null,
      "outputs": [
        {
          "output_type": "execute_result",
          "data": {
            "text/plain": [
              "array([[30.943   , 31.41304 , 26.579306, 25.438538, 28.268171, 30.943   ]],\n",
              "      dtype=float32)"
            ]
          },
          "metadata": {},
          "execution_count": 18
        }
      ]
    },
    {
      "cell_type": "code",
      "metadata": {
        "colab": {
          "base_uri": "https://localhost:8080/"
        },
        "id": "cNpPp_aRvqEX",
        "outputId": "f54b3145-a310-413e-ab9f-0057cdef9234"
      },
      "source": [
        "harm_function_values_inner"
      ],
      "execution_count": null,
      "outputs": [
        {
          "output_type": "execute_result",
          "data": {
            "text/plain": [
              "array([28.69140625, 27.77001467, 25.3514432 , 24.6901848 , 26.70007609,\n",
              "       28.69140625])"
            ]
          },
          "metadata": {},
          "execution_count": 19
        }
      ]
    },
    {
      "cell_type": "code",
      "metadata": {
        "colab": {
          "base_uri": "https://localhost:8080/"
        },
        "id": "qj2DdZLHvqEX",
        "outputId": "20072237-274c-490d-f470-ce9b598752b6"
      },
      "source": [
        "np.shape(psi_training_input_test)"
      ],
      "execution_count": null,
      "outputs": [
        {
          "output_type": "execute_result",
          "data": {
            "text/plain": [
              "(16, 156, 1)"
            ]
          },
          "metadata": {},
          "execution_count": 20
        }
      ]
    },
    {
      "cell_type": "markdown",
      "metadata": {
        "id": "ULrH_iQfwaHk"
      },
      "source": [
        "### Function for calculating the $\\Delta\\varphi_j(x)= \\frac{-4c^2 (c^4 - c^2 r^2 - r^4) }{(c^2-r^2)^4}\\exp\\{((r/c)^2-1 )^{-1}\\}$ values"
      ]
    },
    {
      "cell_type": "code",
      "metadata": {
        "id": "Tc04aW5awknt"
      },
      "source": [
        "# Input1: x coordinates to evaluate φ in\n",
        "# Input2: y coordinates to evaluate φ in\n",
        "# Input3: c - concentration of φ\n",
        "\n",
        "# Output: Δφ_yj(x_i) values\n",
        "\n",
        "def phi_calculator(x, y, c):\n",
        "    \n",
        "    # List for saving the x_i values\n",
        "    lapl_phi_values = []\n",
        "    \n",
        "    # Iterating through the circumference points\n",
        "    for j in range(0, len(y[0])):\n",
        "    \n",
        "        #declaring variable for saving the φ values for all j\n",
        "        phi_j = []\n",
        "        \n",
        "        #iterating through the border points\n",
        "        for i in range(0,len(x[0])):\n",
        "            \n",
        "            #calculating the distances between the border and circumf. values\n",
        "            beginning_temp = np.array([x[0][i], x[1][i]])\n",
        "            end_temp = np.array([y[0][j], y[1][j]])\n",
        "            dist = np.linalg.norm(beginning_temp - end_temp)           \n",
        "        \n",
        "            # calculating the φ values\n",
        "            phi_j.append(float(abs(dist < c))*((-4 * c ** 2 * (c ** 4 - c ** 2 * dist ** 2 - dist ** 4)) * (c ** 2 - dist ** 2) ** (-4)) * (np.exp(1/((dist/c)**2-1))))\n",
        "        \n",
        "        #appending the φ values\n",
        "        lapl_phi_values.append(psi[j])\n",
        "        \n",
        "    # Returning with the phi matrix\n",
        "    return lapl_phi_values"
      ],
      "execution_count": null,
      "outputs": []
    }
  ]
}